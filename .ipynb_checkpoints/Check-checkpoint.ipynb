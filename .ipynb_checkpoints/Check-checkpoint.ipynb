{
 "cells": [
  {
   "cell_type": "code",
   "execution_count": 1,
   "id": "11d8c8af",
   "metadata": {},
   "outputs": [
    {
     "ename": "NameError",
     "evalue": "name 'warnings' is not defined",
     "output_type": "error",
     "traceback": [
      "\u001b[1;31m---------------------------------------------------------------------------\u001b[0m",
      "\u001b[1;31mNameError\u001b[0m                                 Traceback (most recent call last)",
      "\u001b[1;32m~\\AppData\\Local\\Temp/ipykernel_568/2066625659.py\u001b[0m in \u001b[0;36m<module>\u001b[1;34m\u001b[0m\n\u001b[0;32m      5\u001b[0m \u001b[1;32mimport\u001b[0m \u001b[0mmatplotlib\u001b[0m\u001b[1;33m.\u001b[0m\u001b[0mpyplot\u001b[0m \u001b[1;32mas\u001b[0m \u001b[0mplt\u001b[0m\u001b[1;33m\u001b[0m\u001b[1;33m\u001b[0m\u001b[0m\n\u001b[0;32m      6\u001b[0m \u001b[0mget_ipython\u001b[0m\u001b[1;33m(\u001b[0m\u001b[1;33m)\u001b[0m\u001b[1;33m.\u001b[0m\u001b[0mrun_line_magic\u001b[0m\u001b[1;33m(\u001b[0m\u001b[1;34m'matplotlib'\u001b[0m\u001b[1;33m,\u001b[0m \u001b[1;34m'inline'\u001b[0m\u001b[1;33m)\u001b[0m\u001b[1;33m\u001b[0m\u001b[1;33m\u001b[0m\u001b[0m\n\u001b[1;32m----> 7\u001b[1;33m \u001b[0mwarnings\u001b[0m\u001b[1;33m.\u001b[0m\u001b[0mfilterwarnings\u001b[0m\u001b[1;33m(\u001b[0m\u001b[1;34m'ignore'\u001b[0m\u001b[1;33m)\u001b[0m\u001b[1;33m\u001b[0m\u001b[1;33m\u001b[0m\u001b[0m\n\u001b[0m",
      "\u001b[1;31mNameError\u001b[0m: name 'warnings' is not defined"
     ]
    }
   ],
   "source": [
    "#importing packages\n",
    "import pandas as pd\n",
    "import numpy as np\n",
    "import seaborn as sns\n",
    "import matplotlib.pyplot as plt\n",
    "%matplotlib inline\n"
   ]
  },
  {
   "cell_type": "code",
   "execution_count": null,
   "id": "bae5e86b",
   "metadata": {},
   "outputs": [],
   "source": [
    "#importing the dataset\n",
    "dataset = pd.read_csv('vehicles.csv')\n",
    "dataset.shape"
   ]
  },
  {
   "cell_type": "code",
   "execution_count": null,
   "id": "40db468d",
   "metadata": {},
   "outputs": [],
   "source": [
    "dataset"
   ]
  },
  {
   "cell_type": "code",
   "execution_count": null,
   "id": "79144018",
   "metadata": {},
   "outputs": [],
   "source": [
    "# Now lets drop some columns that we dont need\n",
    "dataset.drop(['lat','long','region_url','url','VIN','county','id','image_url'],axis=1,inplace=True)\n",
    "dataset.shape"
   ]
  },
  {
   "cell_type": "code",
   "execution_count": null,
   "id": "48b12a93",
   "metadata": {},
   "outputs": [],
   "source": [
    "dataset.duplicated().sum()"
   ]
  },
  {
   "cell_type": "code",
   "execution_count": null,
   "id": "cdf5d982",
   "metadata": {},
   "outputs": [],
   "source": [
    "# We can remove the duplicates\n",
    "dataset=dataset.drop_duplicates(keep='first')"
   ]
  },
  {
   "cell_type": "code",
   "execution_count": null,
   "id": "6bdc5032",
   "metadata": {},
   "outputs": [],
   "source": [
    "dataset.shape"
   ]
  },
  {
   "cell_type": "code",
   "execution_count": null,
   "id": "250b1ebb",
   "metadata": {
    "scrolled": true
   },
   "outputs": [],
   "source": [
    "# Using Regular expression\n",
    "import re\n",
    "\n",
    "manufacturer = '(gmc | hyundai | toyota | mitsubishi | ford | chevrolet | ram | buick | jeep | dodge | subaru | nissan | audi | rover  | lexus \\\n",
    "| honda | chrysler | mini | pontiac | mercedes-benz | cadillac | bmw | kia | volvo | volkswagen | jaguar | acura | saturn | mazda | \\\n",
    "mercury | lincoln | infiniti | ferrari | fiat | tesla | land rover | harley-davidson | datsun | alfa-romeo | morgan | aston-martin | porche \\\n",
    "| hennessey)'\n",
    "condition = '(excellent | good | fair | like new | salvage | new)'\n",
    "fuel = '(gas | hybrid | diesel |electric)'\n",
    "title_status = '(clean | lien | rebuilt | salvage | missing | parts only)'\n",
    "transmission = '(automatic | manual)'\n",
    "drive = '(4x4 | awd | fwd | rwd | 4wd)'\n",
    "size = '(mid-size | full-size | compact | sub-compact)'\n",
    "type_ = '(sedan | truck | SUV | mini-van | wagon | hatchback | coupe | pickup | convertible | van | bus | offroad)'\n",
    "paint_color = '(red | grey | blue | white | custom | silver | brown | black | purple | green | orange | yellow)'\n",
    "cylinders = '(\\s[1-9] cylinders? |\\s1[0-6]? cylinders?)'\n",
    "\n",
    "keys =    ['manufacturer', 'condition', 'fuel', 'title_status', 'transmission', 'drive','size', 'type', 'paint_color' , 'cylinders']\n",
    "columns = [ manufacturer,   condition,   fuel,  title_status, transmission ,drive, size, type_, paint_color,   cylinders]\n",
    "\n",
    "for i,column in zip(keys,columns):\n",
    "    dataset[i] = dataset[i].fillna(dataset['description'].str.extract(column, flags=re.IGNORECASE, expand=False)).str.lower()"
   ]
  },
  {
   "cell_type": "code",
   "execution_count": null,
   "id": "04013706",
   "metadata": {},
   "outputs": [],
   "source": [
    "dataset=dataset.drop('description',axis=1)"
   ]
  },
  {
   "cell_type": "code",
   "execution_count": null,
   "id": "4aa417e9",
   "metadata": {},
   "outputs": [],
   "source": [
    "dataset"
   ]
  },
  {
   "cell_type": "code",
   "execution_count": null,
   "id": "b8fb8cc0",
   "metadata": {},
   "outputs": [],
   "source": [
    "columns = ['manufacturer','condition','cylinders','fuel','transmission','drive','size','type','title_status','paint_color']\n",
    "for i in columns:\n",
    "    dataset[i] = dataset[i].str.strip()"
   ]
  },
  {
   "cell_type": "code",
   "execution_count": null,
   "id": "fad62df5",
   "metadata": {},
   "outputs": [],
   "source": [
    "dataset"
   ]
  },
  {
   "cell_type": "code",
   "execution_count": null,
   "id": "432cad16",
   "metadata": {},
   "outputs": [],
   "source": [
    "# Lets handle the outliers in price column\n",
    "dataset = dataset[(dataset.price <= 30000)&(dataset.price>=500)]\n",
    "dataset"
   ]
  },
  {
   "cell_type": "code",
   "execution_count": null,
   "id": "21b1aecf",
   "metadata": {},
   "outputs": [],
   "source": [
    "dataset=dataset.drop(['region','cylinders','paint_color','state','posting_date'],axis=1)"
   ]
  },
  {
   "cell_type": "code",
   "execution_count": null,
   "id": "edae184e",
   "metadata": {},
   "outputs": [],
   "source": [
    "plt.figure(figsize=[8,6])\n",
    "sx= sns.scatterplot(x=dataset['odometer'],y=dataset['price'])\n",
    "sx.set_title(\"Odometer vs Price\")\n",
    "plt.show()"
   ]
  },
  {
   "cell_type": "code",
   "execution_count": null,
   "id": "67e5f081",
   "metadata": {
    "scrolled": true
   },
   "outputs": [],
   "source": [
    "sns.pairplot(dataset)\n",
    "plt.title('Figure 1: Pair Plot')\n",
    "plt.tight_layout()\n",
    "plt.savefig('Insight-Pair-Plot',dpi=None)\n",
    "plt.show()"
   ]
  },
  {
   "cell_type": "code",
   "execution_count": null,
   "id": "d983d82a",
   "metadata": {},
   "outputs": [],
   "source": [
    "# Lets handle the outliers in Odometer column\n",
    "dataset=dataset[(dataset.odometer <= 500000)& (dataset.odometer != 0)]"
   ]
  },
  {
   "cell_type": "code",
   "execution_count": null,
   "id": "6ec17057",
   "metadata": {},
   "outputs": [],
   "source": [
    "dataset.shape"
   ]
  },
  {
   "cell_type": "code",
   "execution_count": null,
   "id": "45478606",
   "metadata": {},
   "outputs": [],
   "source": [
    "plt.figure(figsize=[8,6])\n",
    "sx= sns.scatterplot(x=dataset['odometer'],y=dataset['price'])\n",
    "sx.set_title(\"Odometer vs Price\")\n",
    "plt.show()"
   ]
  },
  {
   "cell_type": "code",
   "execution_count": null,
   "id": "8433429a",
   "metadata": {},
   "outputs": [],
   "source": [
    "sns.pairplot(dataset)\n",
    "plt.title('Figure 1: Pair Plot')\n",
    "plt.tight_layout()\n",
    "plt.savefig('Insight-Pair-Plot',dpi=None)\n",
    "plt.show()\n"
   ]
  },
  {
   "cell_type": "code",
   "execution_count": null,
   "id": "d27badb5",
   "metadata": {},
   "outputs": [],
   "source": [
    "dataset=dataset[(dataset.year > 2000)]"
   ]
  },
  {
   "cell_type": "code",
   "execution_count": null,
   "id": "060228ca",
   "metadata": {},
   "outputs": [],
   "source": [
    "dataset.shape"
   ]
  },
  {
   "cell_type": "code",
   "execution_count": null,
   "id": "76e2fef2",
   "metadata": {},
   "outputs": [],
   "source": [
    "processed_dataset = dataset"
   ]
  },
  {
   "cell_type": "code",
   "execution_count": null,
   "id": "2cfb4ae7",
   "metadata": {},
   "outputs": [],
   "source": [
    "processed_dataset.shape"
   ]
  },
  {
   "cell_type": "code",
   "execution_count": null,
   "id": "f74dd754",
   "metadata": {},
   "outputs": [],
   "source": [
    "# Now we need to fill the null values\n",
    "d1=(processed_dataset['odometer']<=100000)\n",
    "d2=(processed_dataset['odometer']>100000)\n"
   ]
  },
  {
   "cell_type": "code",
   "execution_count": null,
   "id": "74058f1a",
   "metadata": {},
   "outputs": [],
   "source": [
    "# Replaced null values in odometer column with excellent and good in respective range\n",
    "processed_dataset.loc[d1,'odometer'] = processed_dataset.loc[d1,'odometer'].fillna(\"excellent\")\n",
    "processed_dataset.loc[d2,'odometer'] = processed_dataset.loc[d2,'odometer'].fillna(\"good\")"
   ]
  },
  {
   "cell_type": "code",
   "execution_count": null,
   "id": "c3db6df5",
   "metadata": {},
   "outputs": [],
   "source": [
    "null_count=pd.DataFrame({'Null':processed_dataset.isnull().sum()})\n",
    "total = len(processed_dataset)\n",
    "percentage_null = round((null_count['Null']/total)*100,1)\n",
    "null_count['Percentage']=percentage_null\n",
    "null_count"
   ]
  },
  {
   "cell_type": "code",
   "execution_count": null,
   "id": "9439f448",
   "metadata": {},
   "outputs": [],
   "source": [
    "# As we have less null values in some columns, we are going to drop those rows\n",
    "processed_dataset=processed_dataset.dropna(subset=['manufacturer','model','fuel','title_status','transmission'])"
   ]
  },
  {
   "cell_type": "code",
   "execution_count": null,
   "id": "d9790dea",
   "metadata": {},
   "outputs": [],
   "source": [
    "processed_dataset.shape"
   ]
  },
  {
   "cell_type": "code",
   "execution_count": null,
   "id": "0ba00264",
   "metadata": {},
   "outputs": [],
   "source": [
    "# Dropping the size column as it has more null values\n",
    "processed_dataset=processed_dataset.drop(['size'],axis=1)"
   ]
  },
  {
   "cell_type": "code",
   "execution_count": null,
   "id": "50e6d8ac",
   "metadata": {},
   "outputs": [],
   "source": [
    "# Now we will fill null values using ffill method in other columns\n",
    "columns=['condition','drive','type']\n",
    "for i in columns:\n",
    "    processed_dataset[i]=processed_dataset[i].fillna(method='ffill')"
   ]
  },
  {
   "cell_type": "code",
   "execution_count": null,
   "id": "ef1ec322",
   "metadata": {},
   "outputs": [],
   "source": [
    "processed_dataset"
   ]
  },
  {
   "cell_type": "code",
   "execution_count": null,
   "id": "9f91a8af",
   "metadata": {},
   "outputs": [],
   "source": [
    "# Checking the null values\n",
    "null_count=pd.DataFrame({'Null':processed_dataset.isnull().sum()})\n",
    "total = len(processed_dataset)\n",
    "percentage_null = round((null_count['Null']/total)*100,1)\n",
    "null_count['Percentage']=percentage_null\n",
    "null_count"
   ]
  },
  {
   "cell_type": "code",
   "execution_count": null,
   "id": "b5411fa3",
   "metadata": {},
   "outputs": [],
   "source": [
    "# Removing that one null value in drive column\n",
    "processed_dataset=processed_dataset.dropna(subset=['drive'])\n",
    "# All the null values are removed"
   ]
  },
  {
   "cell_type": "code",
   "execution_count": null,
   "id": "50e1285a",
   "metadata": {},
   "outputs": [],
   "source": [
    "# Now the columns condition and title_status are linked and are similar so combining both the columns and then we drop them\n",
    "processed_dataset['status']=processed_dataset['condition'] + '&' + processed_dataset['title_status']\n",
    "processed_dataset=processed_dataset.drop(['condition','title_status'],axis=1)"
   ]
  },
  {
   "cell_type": "code",
   "execution_count": null,
   "id": "fe0c3313",
   "metadata": {},
   "outputs": [],
   "source": [
    "processed_dataset"
   ]
  },
  {
   "cell_type": "code",
   "execution_count": null,
   "id": "cfa92000",
   "metadata": {},
   "outputs": [],
   "source": [
    "# Now we need to change all the categorical data to numerical data\n",
    "\n",
    "from sklearn.preprocessing import LabelEncoder\n",
    "features = ['manufacturer','model','fuel','drive','status','type','transmission']\n",
    "encoder = LabelEncoder()\n",
    "encoded = processed_dataset[features].apply(encoder.fit_transform)\n",
    "processed_dataset.drop(features, axis=1, inplace=True)\n",
    "processed_dataset = pd.concat([encoded,processed_dataset],axis = 1) \n",
    "processed_dataset.head(1)"
   ]
  },
  {
   "cell_type": "code",
   "execution_count": null,
   "id": "1dd979e6",
   "metadata": {},
   "outputs": [],
   "source": [
    "processed_dataset.columns"
   ]
  },
  {
   "cell_type": "code",
   "execution_count": null,
   "id": "472c2ca9",
   "metadata": {},
   "outputs": [],
   "source": [
    "# We are keeping the target variable at the end \n",
    "new_columns = ['manufacturer', 'model', 'fuel', 'transmission',\n",
    "       'drive', 'type', 'status', 'year',\n",
    "       'odometer' , 'price']\n",
    "\n",
    "processed_dataset = processed_dataset.reindex(columns = new_columns ) \n",
    "processed_dataset"
   ]
  },
  {
   "cell_type": "code",
   "execution_count": null,
   "id": "640c5e6a",
   "metadata": {},
   "outputs": [],
   "source": [
    "#Split dataset into Training and Test Set\n",
    "\n",
    "X = processed_dataset.iloc[:,:-1]  #independent columns\n",
    "y = processed_dataset.iloc[:,-1]    #target column i.e price range\n",
    "\n",
    "from sklearn.model_selection import train_test_split\n",
    "X_train, X_test, y_train, y_test = train_test_split(X, y, test_size = 0.15, random_state = 0)"
   ]
  },
  {
   "cell_type": "code",
   "execution_count": null,
   "id": "7261773e",
   "metadata": {},
   "outputs": [],
   "source": [
    "X_train.head(5)"
   ]
  },
  {
   "cell_type": "code",
   "execution_count": null,
   "id": "f7d6cbb6",
   "metadata": {},
   "outputs": [],
   "source": [
    "print('Final Training data shape',X_train.shape)\n",
    "print('Final Test data shape',X_test.shape)"
   ]
  },
  {
   "cell_type": "code",
   "execution_count": null,
   "id": "50bb21e5",
   "metadata": {},
   "outputs": [],
   "source": [
    "df = processed_dataset\n",
    "def trainingData(df,n):\n",
    "    X = df.iloc[:,n]\n",
    "    y = df.iloc[:,-1:].values.T\n",
    "    y=y[0]\n",
    "    X_train,X_test,y_train,y_test=train_test_split(X,y,train_size=0.85,test_size=0.15,random_state=0)\n",
    "    return (X_train,X_test,y_train,y_test)\n",
    "\n",
    "X_train,X_test,y_train,y_test=trainingData(df,list(range(len(list(df.columns))-1)))\n",
    "\n"
   ]
  },
  {
   "cell_type": "code",
   "execution_count": null,
   "id": "148cecb1",
   "metadata": {},
   "outputs": [],
   "source": [
    "\n",
    "#some of models will predict neg values so this function will remove that values\n",
    "def remove_neg(y_test,y_pred):\n",
    "    ind=[index for index in range(len(y_pred)) if(y_pred[index]>0)]\n",
    "    y_pred=y_pred[ind]\n",
    "    y_test=y_test[ind]\n",
    "    y_pred[y_pred<0]\n",
    "    return (y_test,y_pred)\n",
    "def result(y_test,y_pred):\n",
    "    r=[]\n",
    "    r.append(mean_squared_log_error(y_test, y_pred))\n",
    "    r.append(np.sqrt(r[0]))\n",
    "    r.append(r2_score(y_test,y_pred))\n",
    "    r.append(round(r2_score(y_test,y_pred)*100,4))\n",
    "    return (r)\n",
    "#dataframe that store the performance of each model\n",
    "accu=pd.DataFrame(index=['MSLE', 'Root MSLE', 'R2 Score','Accuracy(%)'])"
   ]
  },
  {
   "cell_type": "code",
   "execution_count": null,
   "id": "2cb67959",
   "metadata": {},
   "outputs": [],
   "source": [
    "#fitting model\n",
    "from sklearn.linear_model import LinearRegression\n",
    "LR=LinearRegression()\n",
    "LR.fit(X_train,y_train)\n",
    "y_pred=LR.predict(X_test)"
   ]
  },
  {
   "cell_type": "code",
   "execution_count": null,
   "id": "f7aabd4f",
   "metadata": {},
   "outputs": [],
   "source": [
    "#calculating error/accuracy\n",
    "y_test_1,y_pred_1=remove_neg(y_test,y_pred)\n",
    "r1_lr=result(y_test_1,y_pred_1)\n",
    "print('Coefficients: \\n', LR.coef_)\n",
    "print(\"MSLE : {}\".format(r1_lr[0]))\n",
    "print(\"Root MSLE : {}\".format(r1_lr[1]))\n",
    "print(\"R2 Score : {} or {}%\".format(r1_lr[2],r1_lr[3]))\n",
    "accu['Linear Regression']=r1_lr"
   ]
  },
  {
   "cell_type": "code",
   "execution_count": null,
   "id": "75c80a23",
   "metadata": {},
   "outputs": [],
   "source": [
    "#Ploting feature importance graph\n",
    "import matplotlib\n",
    "coef = pd.Series(LR.coef_, index = X_train.columns)\n",
    "imp_coef = coef.sort_values()\n",
    "matplotlib.rcParams['figure.figsize'] = (6.0, 6.0)\n",
    "imp_coef.plot(kind = \"barh\")\n",
    "plt.title(\"Feature importance using Linear Regression Model\")\n",
    "plt.savefig('Linear-Regression-Feature-Importance.jpg')\n",
    "plt.show()"
   ]
  },
  {
   "cell_type": "code",
   "execution_count": null,
   "id": "de09445f",
   "metadata": {},
   "outputs": [],
   "source": [
    "#Visualization of true value and predicted\n",
    "\n",
    "df_check = pd.DataFrame({'Actual': y_test_1, 'Predicted': y_pred_1})\n",
    "df_check = df_check.sample(20)\n",
    "df_check.plot(kind='bar',figsize=(10,5))\n",
    "plt.grid(which='major', linestyle='-', linewidth='0.1', color='Green')\n",
    "plt.title('Performance of Linear Regression')\n",
    "plt.savefig('Linear-Regression-Performance')\n",
    "plt.show()"
   ]
  },
  {
   "cell_type": "code",
   "execution_count": null,
   "id": "ddc0e301",
   "metadata": {},
   "outputs": [],
   "source": [
    "#estimating MSLE for k=1-9\n",
    "R_MSLE=[]\n",
    "for i in range(1,10):\n",
    "    KNN=KNeighborsRegressor(n_neighbors=i)\n",
    "    KNN.fit(X_train,y_train)\n",
    "    y_pred=KNN.predict(X_test)\n",
    "    error=np.sqrt(mean_squared_log_error(y_test, y_pred))\n",
    "    R_MSLE.append(error)\n",
    "    print(\"K =\",i,\" , Root MSLE =\",error)"
   ]
  },
  {
   "cell_type": "code",
   "execution_count": null,
   "id": "9892173c",
   "metadata": {},
   "outputs": [],
   "source": [
    "#plotting error\n",
    "\n",
    "curve = pd.DataFrame(R_MSLE) #elbow curve \n",
    "plt.figure(figsize=(8,4))\n",
    "plt.xticks(list(range(1,10)), list(range(1,10)), rotation='horizontal')\n",
    "plt.plot(list(range(1,10)),R_MSLE)\n",
    "plt.xlabel('K')\n",
    "plt.ylabel('MSLE')\n",
    "plt.title('Error Plot for Each K')\n",
    "plt.savefig('KNN-Error-Plot.jpg')\n",
    "plt.show()"
   ]
  },
  {
   "cell_type": "code",
   "execution_count": null,
   "id": "f603ddca",
   "metadata": {},
   "outputs": [],
   "source": [
    "from sklearn.neighbors import KNeighborsRegressor\n",
    "from sklearn.metrics import mean_squared_log_error,r2_score,mean_squared_error\n",
    "R_MSLE=[]\n",
    "for i in range(1,10):\n",
    "    KNN=KNeighborsRegressor(n_neighbors=i)\n",
    "    KNN.fit(X_train,y_train)\n",
    "    y_pred=KNN.predict(X_test)\n",
    "    error=np.sqrt(mean_squared_log_error(y_test, y_pred))\n",
    "    R_MSLE.append(error)\n",
    "    print(\"K =\",i,\" , Root MSLE =\",error)"
   ]
  },
  {
   "cell_type": "code",
   "execution_count": null,
   "id": "c52836d6",
   "metadata": {},
   "outputs": [],
   "source": [
    "#plotting error\n",
    "\n",
    "curve = pd.DataFrame(R_MSLE) #elbow curve \n",
    "plt.figure(figsize=(8,4))\n",
    "plt.xticks(list(range(1,10)), list(range(1,10)), rotation='horizontal')\n",
    "plt.plot(list(range(1,10)),R_MSLE)\n",
    "plt.xlabel('K')\n",
    "plt.ylabel('MSLE')\n",
    "plt.title('Error Plot for Each K')\n",
    "plt.savefig('KNN-Error-Plot.jpg')\n",
    "plt.show()"
   ]
  },
  {
   "cell_type": "code",
   "execution_count": null,
   "id": "bec1d1bb",
   "metadata": {},
   "outputs": [],
   "source": [
    "#model implementation\n",
    "KNN=KNeighborsRegressor(n_neighbors=5) \n",
    "KNN.fit(X_train,y_train)\n",
    "y_pred=KNN.predict(X_test)"
   ]
  },
  {
   "cell_type": "code",
   "execution_count": null,
   "id": "ae2a2dd1",
   "metadata": {},
   "outputs": [],
   "source": [
    "#model evaluation\n",
    "r4_knn=result(y_test,y_pred)\n",
    "print(\"MSLE : {}\".format(r4_knn[0]))\n",
    "print(\"Root MSLE : {}\".format(r4_knn[1]))\n",
    "print(\"R2 Score : {} or {}%\".format(r4_knn[2],r4_knn[3]))\n",
    "accu['KNN']=r4_knn"
   ]
  },
  {
   "cell_type": "code",
   "execution_count": null,
   "id": "affc7569",
   "metadata": {},
   "outputs": [],
   "source": [
    "RFR = RandomForestRegressor(n_estimators=180,random_state=0, min_samples_leaf=1, max_features=0.5, n_jobs=-1, oob_score=True)\n",
    "RFR.fit(X_train,y_train)\n",
    "y_pred = RFR.predict(X_test)\n"
   ]
  },
  {
   "cell_type": "code",
   "execution_count": null,
   "id": "34fefdce",
   "metadata": {},
   "outputs": [],
   "source": [
    "r5_rf=result(y_test,y_pred)\n",
    "print(\"MSLE : {}\".format(r5_rf[0]))\n",
    "print(\"Root MSLE : {}\".format(r5_rf[1]))\n",
    "print(\"R2 Score : {} or {}%\".format(r5_rf[2],r5_rf[3]))\n",
    "accu['RandomForest Regressor']=r5_rf"
   ]
  },
  {
   "cell_type": "code",
   "execution_count": null,
   "id": "8616de70",
   "metadata": {},
   "outputs": [],
   "source": [
    "df_check = pd.DataFrame({'Actual': y_test, 'Predicted': y_pred})\n",
    "df_check = df_check.head(25)\n",
    "#round(df_check,2)\n",
    "df_check.plot(kind='bar',figsize=(10,5))\n",
    "plt.grid(which='major', linestyle='-', linewidth='0.5', color='green')\n",
    "plt.title('Performance of Random Forest')\n",
    "plt.ylabel('Mean Squared Log Error')\n",
    "plt.savefig('Random-Forest-Performance.jpg')\n",
    "plt.show()"
   ]
  },
  {
   "cell_type": "code",
   "execution_count": null,
   "id": "4225cf90",
   "metadata": {},
   "outputs": [],
   "source": []
  },
  {
   "cell_type": "code",
   "execution_count": null,
   "id": "c38e3298",
   "metadata": {},
   "outputs": [],
   "source": []
  }
 ],
 "metadata": {
  "kernelspec": {
   "display_name": "Python 3 (ipykernel)",
   "language": "python",
   "name": "python3"
  },
  "language_info": {
   "codemirror_mode": {
    "name": "ipython",
    "version": 3
   },
   "file_extension": ".py",
   "mimetype": "text/x-python",
   "name": "python",
   "nbconvert_exporter": "python",
   "pygments_lexer": "ipython3",
   "version": "3.9.7"
  }
 },
 "nbformat": 4,
 "nbformat_minor": 5
}
